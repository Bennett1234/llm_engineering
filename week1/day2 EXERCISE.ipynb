{
 "cells": [
  {
   "cell_type": "markdown",
   "id": "d15d8294-3328-4e07-ad16-8a03e9bbfdb9",
   "metadata": {},
   "source": [
    "# Welcome to your first assignment!\n",
    "\n",
    "Instructions are below. Please give this a try, and look in the solutions folder if you get stuck (or feel free to ask me!)"
   ]
  },
  {
   "cell_type": "markdown",
   "id": "ada885d9-4d42-4d9b-97f0-74fbbbfe93a9",
   "metadata": {},
   "source": [
    "<table style=\"margin: 0; text-align: left;\">\n",
    "    <tr>\n",
    "        <td style=\"width: 150px; height: 150px; vertical-align: middle;\">\n",
    "            <img src=\"../resources.jpg\" width=\"150\" height=\"150\" style=\"display: block;\" />\n",
    "        </td>\n",
    "        <td>\n",
    "            <h2 style=\"color:#f71;\">Just before we get to the assignment --</h2>\n",
    "            <span style=\"color:#f71;\">I thought I'd take a second to point you at this page of useful resources for the course. This includes links to all the slides.<br/>\n",
    "            <a href=\"https://edwarddonner.com/2024/11/13/llm-engineering-resources/\">https://edwarddonner.com/2024/11/13/llm-engineering-resources/</a><br/>\n",
    "            Please keep this bookmarked, and I'll continue to add more useful links there over time.\n",
    "            </span>\n",
    "        </td>\n",
    "    </tr>\n",
    "</table>"
   ]
  },
  {
   "cell_type": "markdown",
   "id": "6e9fa1fc-eac5-4d1d-9be4-541b3f2b3458",
   "metadata": {},
   "source": [
    "# HOMEWORK EXERCISE ASSIGNMENT\n",
    "\n",
    "Upgrade the day 1 project to summarize a webpage to use an Open Source model running locally via Ollama rather than OpenAI\n",
    "\n",
    "You'll be able to use this technique for all subsequent projects if you'd prefer not to use paid APIs.\n",
    "\n",
    "**Benefits:**\n",
    "1. No API charges - open-source\n",
    "2. Data doesn't leave your box\n",
    "\n",
    "**Disadvantages:**\n",
    "1. Significantly less power than Frontier Model\n",
    "\n",
    "## Recap on installation of Ollama\n",
    "\n",
    "Simply visit [ollama.com](https://ollama.com) and install!\n",
    "\n",
    "Once complete, the ollama server should already be running locally.  \n",
    "If you visit:  \n",
    "[http://localhost:11434/](http://localhost:11434/)\n",
    "\n",
    "You should see the message `Ollama is running`.  \n",
    "\n",
    "If not, bring up a new Terminal (Mac) or Powershell (Windows) and enter `ollama serve`  \n",
    "And in another Terminal (Mac) or Powershell (Windows), enter `ollama pull llama3.2`  \n",
    "Then try [http://localhost:11434/](http://localhost:11434/) again.\n",
    "\n",
    "If Ollama is slow on your machine, try using `llama3.2:1b` as an alternative. Run `ollama pull llama3.2:1b` from a Terminal or Powershell, and change the code below from `MODEL = \"llama3.2\"` to `MODEL = \"llama3.2:1b\"`"
   ]
  },
  {
   "cell_type": "code",
   "execution_count": 1,
   "id": "4e2a9393-7767-488e-a8bf-27c12dca35bd",
   "metadata": {},
   "outputs": [],
   "source": [
    "# imports\n",
    "\n",
    "import requests\n",
    "from bs4 import BeautifulSoup\n",
    "from IPython.display import Markdown, display"
   ]
  },
  {
   "cell_type": "code",
   "execution_count": 2,
   "id": "29ddd15d-a3c5-4f4e-a678-873f56162724",
   "metadata": {},
   "outputs": [],
   "source": [
    "# Constants\n",
    "\n",
    "OLLAMA_API = \"http://localhost:11434/api/chat\"\n",
    "HEADERS = {\"Content-Type\": \"application/json\"}\n",
    "MODEL = \"llama3.2\""
   ]
  },
  {
   "cell_type": "code",
   "execution_count": 3,
   "id": "dac0a679-599c-441f-9bf2-ddc73d35b940",
   "metadata": {},
   "outputs": [],
   "source": [
    "# Create a messages list using the same format that we used for OpenAI\n",
    "\n",
    "messages = [\n",
    "    {\"role\": \"user\", \"content\": \"Describe some of the business applications of Generative AI\"}\n",
    "]"
   ]
  },
  {
   "cell_type": "code",
   "execution_count": 4,
   "id": "7bb9c624-14f0-4945-a719-8ddb64f66f47",
   "metadata": {},
   "outputs": [],
   "source": [
    "payload = {\n",
    "        \"model\": MODEL,\n",
    "        \"messages\": messages,\n",
    "        \"stream\": False\n",
    "    }"
   ]
  },
  {
   "cell_type": "code",
   "execution_count": null,
   "id": "479ff514-e8bd-4985-a572-2ea28bb4fa40",
   "metadata": {},
   "outputs": [],
   "source": [
    "# Let's just make sure the model is loaded\n",
    "\n",
    "!ollama pull llama3.2"
   ]
  },
  {
   "cell_type": "code",
   "execution_count": 5,
   "id": "42b9f644-522d-4e05-a691-56e7658c0ea9",
   "metadata": {},
   "outputs": [
    {
     "name": "stdout",
     "output_type": "stream",
     "text": [
      "Generative AI has numerous business applications across various industries, including:\n",
      "\n",
      "1. **Content Generation**: AI-powered content generation tools can produce high-quality blog posts, articles, social media posts, and product descriptions, saving time and resources for content creation.\n",
      "2. **Product Design and Engineering**: Generative AI can be used to design and optimize product prototypes, reducing the need for manual prototyping and testing.\n",
      "3. **Marketing and Advertising**: AI-powered tools can generate personalized ad copy, product recommendations, and social media posts, increasing engagement and conversion rates.\n",
      "4. **Customer Service**: Chatbots and virtual assistants powered by Generative AI can provide 24/7 customer support, respond to common queries, and route complex issues to human representatives.\n",
      "5. **Image and Video Generation**: AI-powered tools can generate high-quality images and videos for various applications, such as e-commerce product photography, video production, and marketing materials.\n",
      "6. **Data Analysis and Visualization**: Generative AI can be used to analyze large datasets, identify patterns, and create interactive visualizations, making it easier to understand complex data insights.\n",
      "7. **Supply Chain Optimization**: AI-powered tools can predict demand, optimize inventory levels, and streamline logistics operations, reducing costs and improving supply chain efficiency.\n",
      "8. **Financial Analysis and Risk Management**: Generative AI can be used to analyze financial data, identify trends, and predict market movements, helping businesses make informed investment decisions.\n",
      "9. **Sales Forecasting**: AI-powered tools can generate accurate sales forecasts based on historical data, seasonal trends, and market conditions, enabling businesses to plan effectively.\n",
      "10. **Creative Writing and Storytelling**: Generative AI can be used to generate creative writing, such as product descriptions, blog posts, or even entire stories, for various industries like publishing, entertainment, and advertising.\n",
      "\n",
      "Some specific business applications of Generative AI include:\n",
      "\n",
      "* **Chatbots and Virtual Assistants**: Companies like Salesforce, Microsoft, and IBM are using chatbots and virtual assistants powered by Generative AI to improve customer service and support.\n",
      "* **Content Marketing**: Brands like HubSpot, LinkedIn, and Amazon are leveraging Generative AI to generate high-quality content, such as blog posts, social media posts, and product descriptions.\n",
      "* **Product Design**: Companies like Procter & Gamble, Nike, and Coca-Cola are using Generative AI to design new products and packaging designs.\n",
      "* **Customer Service Automation**: Businesses like Amazon, Walmart, and Domino's Pizza are using Generative AI-powered chatbots to automate customer support and improve customer experience.\n",
      "\n",
      "These applications are just a few examples of the many business use cases for Generative AI. As the technology continues to evolve, we can expect to see even more innovative applications across various industries.\n"
     ]
    }
   ],
   "source": [
    "# If this doesn't work for any reason, try the 2 versions in the following cells\n",
    "# And double check the instructions in the 'Recap on installation of Ollama' at the top of this lab\n",
    "# And if none of that works - contact me!\n",
    "\n",
    "response = requests.post(OLLAMA_API, json=payload, headers=HEADERS)\n",
    "print(response.json()['message']['content'])"
   ]
  },
  {
   "cell_type": "markdown",
   "id": "6a021f13-d6a1-4b96-8e18-4eae49d876fe",
   "metadata": {},
   "source": [
    "# Introducing the ollama package\n",
    "\n",
    "And now we'll do the same thing, but using the elegant ollama python package instead of a direct HTTP call.\n",
    "\n",
    "Under the hood, it's making the same call as above to the ollama server running at localhost:11434"
   ]
  },
  {
   "cell_type": "code",
   "execution_count": 8,
   "id": "5ce665dd-d4a6-4006-a887-1a5cc52d929c",
   "metadata": {},
   "outputs": [
    {
     "name": "stdout",
     "output_type": "stream",
     "text": [
      "Collecting ollama\n",
      "  Using cached ollama-0.5.1-py3-none-any.whl.metadata (4.3 kB)\n",
      "Requirement already satisfied: httpx>=0.27 in /opt/anaconda3/envs/llms/lib/python3.11/site-packages (from ollama) (0.28.1)\n",
      "Requirement already satisfied: pydantic>=2.9 in /opt/anaconda3/envs/llms/lib/python3.11/site-packages (from ollama) (2.11.4)\n",
      "Requirement already satisfied: anyio in /opt/anaconda3/envs/llms/lib/python3.11/site-packages (from httpx>=0.27->ollama) (4.9.0)\n",
      "Requirement already satisfied: certifi in /opt/anaconda3/envs/llms/lib/python3.11/site-packages (from httpx>=0.27->ollama) (2025.4.26)\n",
      "Requirement already satisfied: httpcore==1.* in /opt/anaconda3/envs/llms/lib/python3.11/site-packages (from httpx>=0.27->ollama) (1.0.9)\n",
      "Requirement already satisfied: idna in /opt/anaconda3/envs/llms/lib/python3.11/site-packages (from httpx>=0.27->ollama) (3.10)\n",
      "Requirement already satisfied: h11>=0.16 in /opt/anaconda3/envs/llms/lib/python3.11/site-packages (from httpcore==1.*->httpx>=0.27->ollama) (0.16.0)\n",
      "Requirement already satisfied: annotated-types>=0.6.0 in /opt/anaconda3/envs/llms/lib/python3.11/site-packages (from pydantic>=2.9->ollama) (0.7.0)\n",
      "Requirement already satisfied: pydantic-core==2.33.2 in /opt/anaconda3/envs/llms/lib/python3.11/site-packages (from pydantic>=2.9->ollama) (2.33.2)\n",
      "Requirement already satisfied: typing-extensions>=4.12.2 in /opt/anaconda3/envs/llms/lib/python3.11/site-packages (from pydantic>=2.9->ollama) (4.14.0)\n",
      "Requirement already satisfied: typing-inspection>=0.4.0 in /opt/anaconda3/envs/llms/lib/python3.11/site-packages (from pydantic>=2.9->ollama) (0.4.1)\n",
      "Requirement already satisfied: sniffio>=1.1 in /opt/anaconda3/envs/llms/lib/python3.11/site-packages (from anyio->httpx>=0.27->ollama) (1.3.1)\n",
      "Using cached ollama-0.5.1-py3-none-any.whl (13 kB)\n",
      "Installing collected packages: ollama\n",
      "Successfully installed ollama-0.5.1\n"
     ]
    }
   ],
   "source": [
    "! pip install ollama"
   ]
  },
  {
   "cell_type": "code",
   "execution_count": 11,
   "id": "7745b9c4-57dc-4867-9180-61fa5db55eb8",
   "metadata": {},
   "outputs": [
    {
     "name": "stdout",
     "output_type": "stream",
     "text": [
      "Generative AI has numerous business applications across various industries. Here are some examples:\n",
      "\n",
      "1. **Content Creation**: Generative AI can be used to generate high-quality content such as articles, social media posts, product descriptions, and even entire books. This can help businesses save time and resources on content creation.\n",
      "2. **Marketing Automation**: Generative AI-powered chatbots can be used to automate customer service, providing personalized responses to customer inquiries and improving the overall customer experience.\n",
      "3. **Product Design**: Generative AI can be used to design new products, such as custom 3D models or product prototypes. This can help businesses reduce the time and cost associated with traditional product design methods.\n",
      "4. **Image and Video Generation**: Generative AI can be used to generate high-quality images and videos for marketing materials, social media, and other applications.\n",
      "5. **Data Analysis**: Generative AI can be used to analyze large datasets and identify patterns and trends that may not be apparent through traditional analysis methods.\n",
      "6. **Predictive Maintenance**: Generative AI can be used to predict when equipment or machinery is likely to fail, allowing businesses to schedule maintenance and reduce downtime.\n",
      "7. **Customer Segmentation**: Generative AI can be used to analyze customer data and identify segments that are most likely to respond to certain marketing campaigns.\n",
      "8. **Personalized Recommendations**: Generative AI can be used to generate personalized product recommendations for customers based on their browsing history and purchase behavior.\n",
      "9. **Automated Testing**: Generative AI can be used to automate testing of software applications, reducing the time and cost associated with traditional testing methods.\n",
      "10. **Supply Chain Optimization**: Generative AI can be used to optimize supply chain operations, including demand forecasting, inventory management, and logistics planning.\n",
      "\n",
      "Some specific business applications of Generative AI include:\n",
      "\n",
      "* **Amazon's AI-powered product recommendations**: Amazon uses generative AI to personalize product recommendations for customers based on their browsing history and purchase behavior.\n",
      "* **Google's AI-powered image generation**: Google uses generative AI to generate high-quality images that can be used in marketing materials, social media, and other applications.\n",
      "* **Microsoft's AI-powered chatbots**: Microsoft uses generative AI-powered chatbots to automate customer service and provide personalized responses to customer inquiries.\n",
      "* **BMW's AI-powered product design**: BMW uses generative AI to design new products, including custom 3D models and product prototypes.\n",
      "\n",
      "These are just a few examples of the many business applications of Generative AI. As the technology continues to evolve, we can expect to see even more innovative applications across various industries.\n"
     ]
    }
   ],
   "source": [
    "import ollama\n",
    "\n",
    "response = ollama.chat(model=MODEL, messages=messages)\n",
    "print(response['message']['content'])"
   ]
  },
  {
   "cell_type": "markdown",
   "id": "a4704e10-f5fb-4c15-a935-f046c06fb13d",
   "metadata": {},
   "source": [
    "## Alternative approach - using OpenAI python library to connect to Ollama"
   ]
  },
  {
   "cell_type": "code",
   "execution_count": 12,
   "id": "23057e00-b6fc-4678-93a9-6b31cb704bff",
   "metadata": {},
   "outputs": [
    {
     "name": "stdout",
     "output_type": "stream",
     "text": [
      "Generative AI has numerous business applications across various industries. Here are some examples:\n",
      "\n",
      "1. **Content Generation**: Generative AI can create high-quality content such as articles, blog posts, social media posts, product descriptions, and more. This can automate content creation, reducing the need for human writers and saving time.\n",
      "2. **Image and Video Generation**: Generative AI can create realistic images and videos that can be used for advertising, marketing, or even entertainment purposes. For example, companies like Adobe and Google are already using generative AI to create realistic product demos and explainer videos.\n",
      "3. **Design and Architecture**: Generative AI can assist architects and designers in creating innovative designs and prototypes. This can help streamline the design process, reduce costs, and improve efficiency.\n",
      "4. **Customer Service**: Generative AI-powered chatbots can provide 24/7 customer support, answering common queries and helping customers with simple issues. This can free up human customer support agents to focus on more complex problems.\n",
      "5. **Product Recommendation Engine**: Generative AI can analyze customer behavior data and provide personalized product recommendations. This can increase sales and boost revenue for e-commerce companies.\n",
      "6. **Brand Writing and Social Media Management**: Generative AI can help brands create engaging social media content, respond to customer queries, and even compose brand statements that are consistent with the company's tone.\n",
      "7. **Marketing Automation**: Generative AI can analyze marketing campaign data and optimize them in real-time. This means automated email writing, improved campaign targeting, and faster ROI analysis using advanced statistical and machine learning models for data-driven decision making.\n",
      "\n",
      "In the creative sphere:\n",
      "\n",
      "1. **Music Composition and Audio Production**: Music can be generated automatically based on certain parameters without any specific style or theme being specified.\n",
      "2. **Art Generation**: AI's generation capabilities can also generate art in different styles ranging from realistic portraits to abstract paintings.\n",
      "3. **Video Filmmaking Techniques:** Video creation of animations with precise control over the look and feel has helped companies create innovative digital short films.\n",
      "\n",
      "Each industry benefits differently, but they all are adopting it for some level to enhance efficiency, creativity, cost-effectiveness, or a combination of these factors, as AI technology evolves faster by year.\n"
     ]
    }
   ],
   "source": [
    "# There's actually an alternative approach that some people might prefer\n",
    "# You can use the OpenAI client python library to call Ollama:\n",
    "\n",
    "from openai import OpenAI\n",
    "ollama_via_openai = OpenAI(base_url='http://localhost:11434/v1', api_key='ollama')\n",
    "\n",
    "response = ollama_via_openai.chat.completions.create(\n",
    "    model=MODEL,\n",
    "    messages=messages\n",
    ")\n",
    "\n",
    "print(response.choices[0].message.content)"
   ]
  },
  {
   "cell_type": "markdown",
   "id": "9f9e22da-b891-41f6-9ac9-bd0c0a5f4f44",
   "metadata": {},
   "source": [
    "## Are you confused about why that works?\n",
    "\n",
    "It seems strange, right? We just used OpenAI code to call Ollama?? What's going on?!\n",
    "\n",
    "Here's the scoop:\n",
    "\n",
    "The python class `OpenAI` is simply code written by OpenAI engineers that makes calls over the internet to an endpoint.  \n",
    "\n",
    "When you call `openai.chat.completions.create()`, this python code just makes a web request to the following url: \"https://api.openai.com/v1/chat/completions\"\n",
    "\n",
    "Code like this is known as a \"client library\" - it's just wrapper code that runs on your machine to make web requests. The actual power of GPT is running on OpenAI's cloud behind this API, not on your computer!\n",
    "\n",
    "OpenAI was so popular, that lots of other AI providers provided identical web endpoints, so you could use the same approach.\n",
    "\n",
    "So Ollama has an endpoint running on your local box at http://localhost:11434/v1/chat/completions  \n",
    "And in week 2 we'll discover that lots of other providers do this too, including Gemini and DeepSeek.\n",
    "\n",
    "And then the team at OpenAI had a great idea: they can extend their client library so you can specify a different 'base url', and use their library to call any compatible API.\n",
    "\n",
    "That's it!\n",
    "\n",
    "So when you say: `ollama_via_openai = OpenAI(base_url='http://localhost:11434/v1', api_key='ollama')`  \n",
    "Then this will make the same endpoint calls, but to Ollama instead of OpenAI."
   ]
  },
  {
   "cell_type": "markdown",
   "id": "bc7d1de3-e2ac-46ff-a302-3b4ba38c4c90",
   "metadata": {},
   "source": [
    "## Also trying the amazing reasoning model DeepSeek\n",
    "\n",
    "Here we use the version of DeepSeek-reasoner that's been distilled to 1.5B.  \n",
    "This is actually a 1.5B variant of Qwen that has been fine-tuned using synethic data generated by Deepseek R1.\n",
    "\n",
    "Other sizes of DeepSeek are [here](https://ollama.com/library/deepseek-r1) all the way up to the full 671B parameter version, which would use up 404GB of your drive and is far too large for most!"
   ]
  },
  {
   "cell_type": "code",
   "execution_count": null,
   "id": "cf9eb44e-fe5b-47aa-b719-0bb63669ab3d",
   "metadata": {},
   "outputs": [],
   "source": [
    "!ollama pull deepseek-r1:1.5b"
   ]
  },
  {
   "cell_type": "code",
   "execution_count": null,
   "id": "1d3d554b-e00d-4c08-9300-45e073950a76",
   "metadata": {},
   "outputs": [],
   "source": [
    "# This may take a few minutes to run! You should then see a fascinating \"thinking\" trace inside <think> tags, followed by some decent definitions\n",
    "\n",
    "response = ollama_via_openai.chat.completions.create(\n",
    "    model=\"deepseek-r1:1.5b\",\n",
    "    messages=[{\"role\": \"user\", \"content\": \"Please give definitions of some core concepts behind LLMs: a neural network, attention and the transformer\"}]\n",
    ")\n",
    "\n",
    "print(response.choices[0].message.content)"
   ]
  },
  {
   "cell_type": "markdown",
   "id": "1622d9bb-5c68-4d4e-9ca4-b492c751f898",
   "metadata": {},
   "source": [
    "# NOW the exercise for you\n",
    "\n",
    "Take the code from day1 and incorporate it here, to build a website summarizer that uses Llama 3.2 running locally instead of OpenAI; use either of the above approaches."
   ]
  },
  {
   "cell_type": "code",
   "execution_count": 13,
   "id": "6de38216-6d1c-48c4-877b-86d403f4e0f8",
   "metadata": {},
   "outputs": [],
   "source": [
    "headers = {\n",
    " \"User-Agent\": \"Mozilla/5.0 (Windows NT 10.0; Win64; x64) AppleWebKit/537.36 (KHTML, like Gecko) Chrome/117.0.0.0 Safari/537.36\"\n",
    "}\n",
    "\n",
    "class Website:\n",
    "\n",
    "    def __init__(self, url):\n",
    "        \"\"\"\n",
    "        Create this Website object from the given url using the BeautifulSoup library\n",
    "        \"\"\"\n",
    "        self.url = url\n",
    "        response = requests.get(url, headers=headers)\n",
    "        soup = BeautifulSoup(response.content, 'html.parser')\n",
    "        self.title = soup.title.string if soup.title else \"No title found\"\n",
    "        for irrelevant in soup.body([\"script\", \"style\", \"img\", \"input\"]):\n",
    "            irrelevant.decompose()\n",
    "        self.text = soup.body.get_text(separator=\"\\n\", strip=True)\n"
   ]
  },
  {
   "cell_type": "code",
   "execution_count": 14,
   "id": "b72076dc-86db-4a7d-bc0e-232342aeaf69",
   "metadata": {},
   "outputs": [],
   "source": [
    "system_prompt = \"You are an assistant that analyzes the contents of a website \\\n",
    "and provides a short summary, ignoring text that might be navigation related. \\\n",
    "Respond in markdown.\""
   ]
  },
  {
   "cell_type": "code",
   "execution_count": 15,
   "id": "7b1ccbf6-4f50-4b94-850a-88aa75d572f8",
   "metadata": {},
   "outputs": [],
   "source": [
    "def user_prompt_for(website):\n",
    "    user_prompt = f\"You are looking at a website titled {website.title}\"\n",
    "    user_prompt += \"\\nThe contents of this website is as follows; \\\n",
    "please provide a short summary of this website in markdown. \\\n",
    "If it includes news or announcements, then summarize these too.\\n\\n\"\n",
    "    user_prompt += website.text\n",
    "    return user_prompt"
   ]
  },
  {
   "cell_type": "code",
   "execution_count": 16,
   "id": "527e5dc5-bb78-4b23-b5d4-76261b9debcc",
   "metadata": {},
   "outputs": [],
   "source": [
    "def summarize(url):\n",
    "    website = Website(url)\n",
    "    response = OpenAI(base_url='http://localhost:11434/v1', api_key='ollama').chat.completions.create(\n",
    "    model=MODEL,\n",
    "    messages=messages\n",
    ")\n",
    "    return response.choices[0].message.content"
   ]
  },
  {
   "cell_type": "code",
   "execution_count": 17,
   "id": "d5151849-2fa2-4a47-bd69-fc89c67362be",
   "metadata": {},
   "outputs": [
    {
     "data": {
      "text/plain": [
       "\"Generative AI has numerous potential applications in various fields, including:\\n\\n1. **Content Generation**: AI can be used to generate high-quality content such as articles, blog posts, social media posts, and products descriptions, saving time and effort for human writers.\\n2. **Virtual Assistants**: Generative AI can power virtual assistants like chatbots and voice assistants, enabling them to understand and respond to user queries more effectively.\\n3. **Sales and Marketing**: AI-generated content, such as emails, ads, and social media posts, can help personalize marketing efforts and improve customer engagement.\\n4. **Design and Graphics**: Generative AI can be used to create designs, logos, icons, and graphics, automating the design process and reducing manual labor costs.\\n5. **Music and Audio Generation**: AI can generate new music tracks, sound effects, and even entire albums, opening up new creative possibilities for composers and producers.\\n6. **Language Translation**: Generative AI-powered machine translation tools can translate text with greater accuracy and speed than human translators, improving international communication.\\n7. **Data Analysis**: AI can analyze large datasets and identify patterns, making it easier to make informed business decisions and predict potential outcomes.\\n8. **Predictive Maintenance**: Generative AI can analyze equipment sensor data to predict when maintenance is needed, reducing downtime and increasing operational efficiency.\\n9. **Customer Service Chatbots**: AI-powered chatbots can provide 24/7 customer support, helping businesses respond faster and more accurately to customer inquiries.\\n10. **Financial Modeling and Analysis**: Generative AI can generate financial models and forecasts, enabling businesses to make data-driven decisions about investments and resource allocation.\\n\\nSome specific business use cases for Generative AI include:\\n\\n1. **Automated content creation**: Using Generative AI to create website content at scale, such as product descriptions, blog posts, or social media updates.\\n2. **Product suggestions**: Using machine learning algorithms to suggest products based on customer behavior and preferences.\\n3. **Image recognition and classification**: Using AI-powered image recognition tools to identify and categorize customers' identities, objects, and scenes in images and videos.\\n4. **Data augmentation and manipulation**: Generating synthetic data to augment real-world datasets, making them more extensive and diverse, and improving business intelligence.\\n5. **Automated decision-making**: Implementing generative AI algorithms to automate approval processes for credit or insurance applications.\\n\\nThese are just a few examples of the many potential business applications of Generative AI. As the technology continues to evolve, we can expect to see even more innovative and powerful use cases in various industries.\""
      ]
     },
     "execution_count": 17,
     "metadata": {},
     "output_type": "execute_result"
    }
   ],
   "source": [
    "summarize('https://edwarddonner.com')"
   ]
  },
  {
   "cell_type": "code",
   "execution_count": null,
   "id": "946ca9c8-5a0a-434e-84f9-c43845578f66",
   "metadata": {},
   "outputs": [],
   "source": []
  }
 ],
 "metadata": {
  "kernelspec": {
   "display_name": "Python 3 (ipykernel)",
   "language": "python",
   "name": "python3"
  },
  "language_info": {
   "codemirror_mode": {
    "name": "ipython",
    "version": 3
   },
   "file_extension": ".py",
   "mimetype": "text/x-python",
   "name": "python",
   "nbconvert_exporter": "python",
   "pygments_lexer": "ipython3",
   "version": "3.11.13"
  }
 },
 "nbformat": 4,
 "nbformat_minor": 5
}
