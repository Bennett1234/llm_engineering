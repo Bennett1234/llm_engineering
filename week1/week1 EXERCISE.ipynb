{
 "cells": [
  {
   "cell_type": "markdown",
   "id": "fe12c203-e6a6-452c-a655-afb8a03a4ff5",
   "metadata": {},
   "source": [
    "# End of week 1 exercise\n",
    "\n",
    "To demonstrate your familiarity with OpenAI API, and also Ollama, build a tool that takes a technical question,  \n",
    "and responds with an explanation. This is a tool that you will be able to use yourself during the course!"
   ]
  },
  {
   "cell_type": "code",
   "execution_count": 1,
   "id": "c1070317-3ed9-4659-abe3-828943230e03",
   "metadata": {},
   "outputs": [],
   "source": [
    "# imports\n",
    "import openai\n",
    "from dotenv import load_dotenv\n",
    "import os\n",
    "from IPython.display import Markdown, display, update_display"
   ]
  },
  {
   "cell_type": "code",
   "execution_count": 2,
   "id": "4a456906-915a-4bfd-bb9d-57e505c5093f",
   "metadata": {},
   "outputs": [],
   "source": [
    "# constants\n",
    "\n",
    "MODEL_GPT = 'gpt-4o-mini'\n",
    "MODEL_LLAMA = 'llama3.2'"
   ]
  },
  {
   "cell_type": "code",
   "execution_count": 3,
   "id": "a8d7923c-5f28-4c30-8556-342d7c8497c1",
   "metadata": {},
   "outputs": [],
   "source": [
    "# set up environment\n",
    "load_dotenv(override=True)\n",
    "api_key = os.getenv('OPENAI_API_KEY')"
   ]
  },
  {
   "cell_type": "code",
   "execution_count": 4,
   "id": "3f0d0137-52b0-47a8-81a8-11a90a010798",
   "metadata": {},
   "outputs": [],
   "source": [
    "# here is the question; type over this to ask something new\n",
    "\n",
    "question = \"\"\"\n",
    "Please explain what this code does and why:\n",
    "yield from {book.get(\"author\") for book in books if book.get(\"author\")}\n",
    "\"\"\""
   ]
  },
  {
   "cell_type": "code",
   "execution_count": 5,
   "id": "60ce7000-a4a5-4cce-a261-e75ef45063b4",
   "metadata": {},
   "outputs": [],
   "source": [
    "# Get gpt-4o-mini to answer, with streaming\n",
    "\n",
    "system_prompt = \"You are an expert taking question from your audiance. \\\n",
    "And you are able to answer it in a very professional way. \\\n",
    "Respond in Markdown. \"\n",
    "\n",
    "\n",
    "def get_user_prompt(question):\n",
    "    user_prompt = f\"Here is the question {question}.\\n\"\n",
    "    user_prompt = user_prompt + \"Please answer in a professional manner. Respond in Markdown.\"\n",
    "    return user_prompt\n",
    "\n",
    "def tech_bot(question, model):\n",
    "    stream = openai.chat.completions.create(model=model,\n",
    "                                              messages=[\n",
    "            {\"role\": \"system\", \"content\": system_prompt},\n",
    "            {\"role\": \"user\", \"content\": get_user_prompt(get_user_prompt(question))}],\n",
    "                                             stream=True)\n",
    "    response = \"\"\n",
    "    display_handle = display(Markdown(\"\"), display_id=True)\n",
    "    for chunk in stream:\n",
    "        response += chunk.choices[0].delta.content or ''\n",
    "        response = response.replace(\"```\",\"\").replace(\"markdown\", \"\")\n",
    "        update_display(Markdown(response), display_id=display_handle.display_id)\n",
    "    "
   ]
  },
  {
   "cell_type": "code",
   "execution_count": null,
   "id": "aa41588c-5840-4bfb-b101-a7084b0b20d5",
   "metadata": {},
   "outputs": [],
   "source": [
    "tech_bot(\"\"\"\n",
    "Please explain what this code does and why:\n",
    "yield from {book.get(\"author\") for book in books if book.get(\"author\")}\n",
    "\"\"\", MODEL_GPT)"
   ]
  },
  {
   "cell_type": "code",
   "execution_count": 8,
   "id": "8f7c8ea8-4082-4ad0-8751-3301adcf6538",
   "metadata": {},
   "outputs": [],
   "source": [
    "# Get Llama 3.2 to answer\n",
    "def tech_bot(question, model):\n",
    "    ollama_via_openai = openai.OpenAI(base_url='http://localhost:11434/v1', api_key='ollama')\n",
    "    stream = ollama_via_openai.chat.completions.create(model=model,\n",
    "                                              messages=[\n",
    "            {\"role\": \"system\", \"content\": system_prompt},\n",
    "            {\"role\": \"user\", \"content\": get_user_prompt(get_user_prompt(question))}],\n",
    "                                             stream=True)\n",
    "    response = \"\"\n",
    "    display_handle = display(Markdown(\"\"), display_id=True)\n",
    "    for chunk in stream:\n",
    "        response += chunk.choices[0].delta.content or ''\n",
    "        response = response.replace(\"```\",\"\").replace(\"markdown\", \"\")\n",
    "        update_display(Markdown(response), display_id=display_handle.display_id)\n",
    "    "
   ]
  },
  {
   "cell_type": "code",
   "execution_count": null,
   "id": "f0d6d5ea-513d-47b7-ad79-1dd485ce6902",
   "metadata": {},
   "outputs": [],
   "source": [
    "!ollama pull llama3.2"
   ]
  },
  {
   "cell_type": "code",
   "execution_count": 9,
   "id": "30708666-abf4-4bd6-a5dc-8f19950290e6",
   "metadata": {},
   "outputs": [
    {
     "data": {
      "text/markdown": [
       "**Code Explanation**\n",
       "===============\n",
       "\n",
       "The provided code snippet is written in Python and utilizes the `yield from` keyword along with dictionary operations to extract a specific value.\n",
       "\n",
       "### Code Breakdown\n",
       "python\n",
       "yield from {book.get(\"author\") for book in books if book.get(\"author\")}\n",
       "\n",
       "This line of code can be broken down into several components:\n",
       "\n",
       "*   **List Comprehension**: The expression `{...}` represents a list comprehension, which is an equivalent to a traditional for loop.\n",
       "*   **Dictionary Operations**: `book.get(\"author\")` retrieves the value associated with the key `\"author\"` from each dictionary-like object (`books`) using the `.get()` method. This method avoids raising a `KeyError` if the key is not present in the object, instead returning `None`.\n",
       "*   **Yield From**: The `yield from` keyword is used to delegate iteration over a subexpression (in this case, another iterable) to another generator. In essence, it yields values one by one from the subexpression.\n",
       "\n",
       "### What the Code Does\n",
       "When executed, this line of code:\n",
       "\n",
       "1.  Iterates over each dictionary-like object (`book`) in the `books` collection.\n",
       "2.  For each object, it attempts to retrieve the value associated with the key `\"author\"`. If present, it yields that value; otherwise (i.e., if the key is not present `None`).\n",
       "3.  The resulting values are then used as an iterable object, which can be iterated over directly.\n",
       "\n",
       "**Example Use Case**\n",
       "-----------------\n",
       "\n",
       "Suppose you have a list of dictionaries representing published books, where each dictionary includes author information:\n",
       "\n",
       "python\n",
       "books = [\n",
       "    {\"title\": \"Book A\", \"author\": \"Author X\"},\n",
       "    {\"title\": \"Book B\", \"author\": \"Author Y\"},\n",
       "    {\"title\": \"Book C\"},\n",
       "]\n",
       "\n",
       "\n",
       "You can use the given code to extract all authors from the `books` list while skipping books without author information:\n",
       "\n",
       "python\n",
       "# List comprehension followed by yield from\n",
       "authors = {book.get(\"author\") for book in books if book.get(\"author)}\n",
       "\n",
       "for author in authors:\n",
       "    print(author)\n",
       "\n",
       "\n",
       "This will output:\n",
       "\n",
       "\n",
       "Author X\n",
       "Author Y\n"
      ],
      "text/plain": [
       "<IPython.core.display.Markdown object>"
      ]
     },
     "metadata": {},
     "output_type": "display_data"
    }
   ],
   "source": [
    "tech_bot(\"\"\"\n",
    "Please explain what this code does and why:\n",
    "yield from {book.get(\"author\") for book in books if book.get(\"author\")}\n",
    "\"\"\", MODEL_LLAMA)"
   ]
  },
  {
   "cell_type": "code",
   "execution_count": null,
   "id": "a4f9fe4d-7fe9-4bd1-94f9-367e3ea99a2a",
   "metadata": {},
   "outputs": [],
   "source": []
  }
 ],
 "metadata": {
  "kernelspec": {
   "display_name": "Python 3 (ipykernel)",
   "language": "python",
   "name": "python3"
  },
  "language_info": {
   "codemirror_mode": {
    "name": "ipython",
    "version": 3
   },
   "file_extension": ".py",
   "mimetype": "text/x-python",
   "name": "python",
   "nbconvert_exporter": "python",
   "pygments_lexer": "ipython3",
   "version": "3.11.13"
  }
 },
 "nbformat": 4,
 "nbformat_minor": 5
}
